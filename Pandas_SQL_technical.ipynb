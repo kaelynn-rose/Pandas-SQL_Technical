{
 "cells": [
  {
   "cell_type": "code",
   "execution_count": 539,
   "metadata": {},
   "outputs": [],
   "source": [
    "# This notebook shows results of the Technical Case Study for Dunnhumby, for two datasets. \n",
    "# To run the notebook for Section 2 questions, download the carbo-loading dataset here and save locally: \n",
    "# https://www.dunnhumby.com/source-files/ \n",
    "\n",
    "# by Kaelynn Rose 5-18-2021\n",
    "\n",
    "import numpy as np\n",
    "import pandas as pd\n",
    "import matplotlib.pyplot as plt\n",
    "from datetime import date\n",
    "import datetime"
   ]
  },
  {
   "cell_type": "code",
   "execution_count": 205,
   "metadata": {},
   "outputs": [
    {
     "name": "stdout",
     "output_type": "stream",
     "text": [
      "   EMPNO   NAME        JOB   MGR  HIREDATE      SAL  DEPTNO\n",
      "0   3697  Smith  Developer  5684  05/05/15  47000.0      11\n",
      "1   5684  Davis    Manager  8257  22/03/09  63000.0      11\n",
      "2   1891  Jones    Analyst  5684  01/09/17  20000.0      23\n",
      "\n",
      "\n",
      "   DEPTNO       DNAME        LOC\n",
      "0      12     Finance     London\n",
      "1       7  Operations  Edinburgh\n",
      "2      23   Marketing      Paris\n"
     ]
    }
   ],
   "source": [
    "# Section 1: Pandas/SQL data frames\n",
    "\n",
    "# create employee table\n",
    "employee_data = {'EMPNO':[3697,5684,1891],'NAME':['Smith','Davis','Jones'],'JOB':['Developer','Manager','Analyst'],'MGR':[5684,8257,5684],'HIREDATE':['05/05/15','22/03/09','01/09/17'],'SAL':[47000.00,63000.00,20000.00],'DEPTNO':[11,11,23]} # create a dictionary populated with data that will go into the dataframe\n",
    "employee = pd.DataFrame(employee_data) # create a dataframe using the data\n",
    "print(employee)\n",
    "print('\\n')\n",
    "\n",
    "# create dept table\n",
    "dept_data = {'DEPTNO':[12,7,23],'DNAME':['Finance','Operations','Marketing'],'LOC':['London','Edinburgh','Paris']} # create a dictionary populated with data that will go into the dataframe\n",
    "dept = pd.DataFrame(dept_data) # create a dataframe using the data\n",
    "print(dept)"
   ]
  },
  {
   "cell_type": "code",
   "execution_count": 206,
   "metadata": {},
   "outputs": [
    {
     "data": {
      "text/plain": [
       "63000.0"
      ]
     },
     "execution_count": 206,
     "metadata": {},
     "output_type": "execute_result"
    }
   ],
   "source": [
    "# Section 1 Question 1\n",
    "\n",
    "def find_nth_salary(n):\n",
    "    salaries = sorted(list(employee['SAL']),reverse=True) # sort the employees by salary ascending\n",
    "    return salaries[n] # return the nth largest salary\n",
    "\n",
    "find_nth_salary(0)"
   ]
  },
  {
   "cell_type": "code",
   "execution_count": 207,
   "metadata": {},
   "outputs": [
    {
     "data": {
      "text/plain": [
       "JOB\n",
       "Analyst      20000.0\n",
       "Developer    47000.0\n",
       "Manager      63000.0\n",
       "Name: SAL, dtype: float64"
      ]
     },
     "execution_count": 207,
     "metadata": {},
     "output_type": "execute_result"
    }
   ],
   "source": [
    "# Section 1 Question 2\n",
    "\n",
    "def highest_sal_per_job():\n",
    "    highest_per_job = employee.groupby('JOB')['SAL'].max() # group the employee dataframe by job title and find the max salary\n",
    "    return highest_per_job\n",
    "\n",
    "highest_sal_per_job()"
   ]
  },
  {
   "cell_type": "code",
   "execution_count": 208,
   "metadata": {},
   "outputs": [
    {
     "data": {
      "text/plain": [
       "(2009, 1)"
      ]
     },
     "execution_count": 208,
     "metadata": {},
     "output_type": "execute_result"
    }
   ],
   "source": [
    "# Section 1 Question 3\n",
    "\n",
    "def biggest_hire_year():\n",
    "    employee_copy = employee.copy() # copy the dataframe so we can create a new column\n",
    "    employee_copy['year'] = pd.DatetimeIndex(employee_copy['HIREDATE']).year # find the year of the hiredate for each employee\n",
    "    year_counts = dict(employee_copy.groupby('year')['year'].count()) # group the employees by year of their hire date and count how many employees were hired in each year\n",
    "    return max(year_counts.items(), key=lambda k: k[1]) # return the year with the maximum number of employees hired and the number of employees that were hired\n",
    " \n",
    "biggest_hire_year()"
   ]
  },
  {
   "cell_type": "code",
   "execution_count": 210,
   "metadata": {},
   "outputs": [
    {
     "data": {
      "text/html": [
       "<div>\n",
       "<style scoped>\n",
       "    .dataframe tbody tr th:only-of-type {\n",
       "        vertical-align: middle;\n",
       "    }\n",
       "\n",
       "    .dataframe tbody tr th {\n",
       "        vertical-align: top;\n",
       "    }\n",
       "\n",
       "    .dataframe thead th {\n",
       "        text-align: right;\n",
       "    }\n",
       "</style>\n",
       "<table border=\"1\" class=\"dataframe\">\n",
       "  <thead>\n",
       "    <tr style=\"text-align: right;\">\n",
       "      <th></th>\n",
       "      <th>EMPNO</th>\n",
       "      <th>NAME</th>\n",
       "      <th>JOB</th>\n",
       "      <th>MGR</th>\n",
       "      <th>HIREDATE</th>\n",
       "      <th>SAL</th>\n",
       "      <th>DEPTNO</th>\n",
       "      <th>service_years_months</th>\n",
       "    </tr>\n",
       "  </thead>\n",
       "  <tbody>\n",
       "    <tr>\n",
       "      <th>0</th>\n",
       "      <td>3697</td>\n",
       "      <td>Smith</td>\n",
       "      <td>Developer</td>\n",
       "      <td>5684</td>\n",
       "      <td>05/05/15</td>\n",
       "      <td>47000.0</td>\n",
       "      <td>11</td>\n",
       "      <td>(6.04, 72.45)</td>\n",
       "    </tr>\n",
       "    <tr>\n",
       "      <th>1</th>\n",
       "      <td>5684</td>\n",
       "      <td>Davis</td>\n",
       "      <td>Manager</td>\n",
       "      <td>8257</td>\n",
       "      <td>22/03/09</td>\n",
       "      <td>63000.0</td>\n",
       "      <td>11</td>\n",
       "      <td>(12.16, 145.88)</td>\n",
       "    </tr>\n",
       "    <tr>\n",
       "      <th>2</th>\n",
       "      <td>1891</td>\n",
       "      <td>Jones</td>\n",
       "      <td>Analyst</td>\n",
       "      <td>5684</td>\n",
       "      <td>01/09/17</td>\n",
       "      <td>20000.0</td>\n",
       "      <td>23</td>\n",
       "      <td>(4.35, 52.24)</td>\n",
       "    </tr>\n",
       "  </tbody>\n",
       "</table>\n",
       "</div>"
      ],
      "text/plain": [
       "   EMPNO   NAME        JOB   MGR  HIREDATE      SAL  DEPTNO  \\\n",
       "0   3697  Smith  Developer  5684  05/05/15  47000.0      11   \n",
       "1   5684  Davis    Manager  8257  22/03/09  63000.0      11   \n",
       "2   1891  Jones    Analyst  5684  01/09/17  20000.0      23   \n",
       "\n",
       "  service_years_months  \n",
       "0        (6.04, 72.45)  \n",
       "1      (12.16, 145.88)  \n",
       "2        (4.35, 52.24)  "
      ]
     },
     "execution_count": 210,
     "metadata": {},
     "output_type": "execute_result"
    }
   ],
   "source": [
    "# Section 1 Question 4\n",
    "def length_of_service():\n",
    "    today = date.today() # get today's date\n",
    "    employee['service_years_months'] = [(pd.to_datetime(today)-pd.to_datetime(date)) for date in employee['HIREDATE']] # get the number of days between hire date and today for each employee \n",
    "    years = employee['service_years_months'] / np.timedelta64(1,'Y') # find the number of years for each employee\n",
    "    months = employee['service_years_months'] / np.timedelta64(1,'M') # find the number of months for each employee\n",
    "    employee['service_years_months'] = list(zip(years.round(2), months.round(2))) # add the years and months to a list and put that in the service_years_months column\n",
    "    \n",
    "length_of_service()\n",
    "employee"
   ]
  },
  {
   "cell_type": "code",
   "execution_count": 219,
   "metadata": {},
   "outputs": [
    {
     "data": {
      "text/plain": [
       "1    Davis\n",
       "Name: NAME, dtype: object"
      ]
     },
     "execution_count": 219,
     "metadata": {},
     "output_type": "execute_result"
    }
   ],
   "source": [
    "# Section 1 Question 5\n",
    "\n",
    "def list_all_managers():\n",
    "    managers = employee['MGR'] # get list of managers\n",
    "    return employee.loc[employee['EMPNO'].isin(managers)]['NAME'] # list names of all employees who are managers\n",
    "\n",
    "list_all_managers()"
   ]
  },
  {
   "cell_type": "code",
   "execution_count": null,
   "metadata": {},
   "outputs": [],
   "source": []
  },
  {
   "cell_type": "code",
   "execution_count": 222,
   "metadata": {},
   "outputs": [],
   "source": [
    "# Section 2: Carbo Loading Dataset\n",
    "\n",
    "# load in csv files\n",
    "causal = pd.read_csv('dunnhumby_Carbo-Loading/dunnhumby-Carbo-LoadingCSV/dh_causal_lookup.csv')\n",
    "product = pd.read_csv('dunnhumby_Carbo-Loading/dunnhumby-Carbo-LoadingCSV/dh_product_lookup.csv')\n",
    "store = pd.read_csv('dunnhumby_Carbo-Loading/dunnhumby-Carbo-LoadingCSV/dh_store_lookup.csv')\n",
    "transactions = pd.read_csv('dunnhumby_Carbo-Loading/dunnhumby-Carbo-LoadingCSV/dh_transactions.csv')"
   ]
  },
  {
   "cell_type": "code",
   "execution_count": 227,
   "metadata": {},
   "outputs": [
    {
     "data": {
      "text/html": [
       "<div>\n",
       "<style scoped>\n",
       "    .dataframe tbody tr th:only-of-type {\n",
       "        vertical-align: middle;\n",
       "    }\n",
       "\n",
       "    .dataframe tbody tr th {\n",
       "        vertical-align: top;\n",
       "    }\n",
       "\n",
       "    .dataframe thead th {\n",
       "        text-align: right;\n",
       "    }\n",
       "</style>\n",
       "<table border=\"1\" class=\"dataframe\">\n",
       "  <thead>\n",
       "    <tr style=\"text-align: right;\">\n",
       "      <th></th>\n",
       "      <th>upc</th>\n",
       "      <th>dollar_sales</th>\n",
       "      <th>units</th>\n",
       "      <th>time_of_transaction</th>\n",
       "      <th>geography</th>\n",
       "      <th>week</th>\n",
       "      <th>household</th>\n",
       "      <th>store</th>\n",
       "      <th>basket</th>\n",
       "      <th>day</th>\n",
       "      <th>coupon</th>\n",
       "    </tr>\n",
       "  </thead>\n",
       "  <tbody>\n",
       "    <tr>\n",
       "      <th>0</th>\n",
       "      <td>7680850106</td>\n",
       "      <td>0.80</td>\n",
       "      <td>1</td>\n",
       "      <td>1100</td>\n",
       "      <td>2</td>\n",
       "      <td>1</td>\n",
       "      <td>125434</td>\n",
       "      <td>244</td>\n",
       "      <td>1</td>\n",
       "      <td>1</td>\n",
       "      <td>0</td>\n",
       "    </tr>\n",
       "    <tr>\n",
       "      <th>1</th>\n",
       "      <td>3620000470</td>\n",
       "      <td>3.59</td>\n",
       "      <td>1</td>\n",
       "      <td>1100</td>\n",
       "      <td>2</td>\n",
       "      <td>1</td>\n",
       "      <td>125434</td>\n",
       "      <td>244</td>\n",
       "      <td>1</td>\n",
       "      <td>1</td>\n",
       "      <td>0</td>\n",
       "    </tr>\n",
       "    <tr>\n",
       "      <th>2</th>\n",
       "      <td>1800028064</td>\n",
       "      <td>2.25</td>\n",
       "      <td>1</td>\n",
       "      <td>1137</td>\n",
       "      <td>2</td>\n",
       "      <td>1</td>\n",
       "      <td>108320</td>\n",
       "      <td>244</td>\n",
       "      <td>2</td>\n",
       "      <td>1</td>\n",
       "      <td>0</td>\n",
       "    </tr>\n",
       "    <tr>\n",
       "      <th>3</th>\n",
       "      <td>9999985067</td>\n",
       "      <td>0.85</td>\n",
       "      <td>1</td>\n",
       "      <td>1148</td>\n",
       "      <td>2</td>\n",
       "      <td>1</td>\n",
       "      <td>162016</td>\n",
       "      <td>244</td>\n",
       "      <td>3</td>\n",
       "      <td>1</td>\n",
       "      <td>0</td>\n",
       "    </tr>\n",
       "    <tr>\n",
       "      <th>4</th>\n",
       "      <td>9999985131</td>\n",
       "      <td>2.19</td>\n",
       "      <td>1</td>\n",
       "      <td>1323</td>\n",
       "      <td>2</td>\n",
       "      <td>1</td>\n",
       "      <td>89437</td>\n",
       "      <td>244</td>\n",
       "      <td>4</td>\n",
       "      <td>1</td>\n",
       "      <td>0</td>\n",
       "    </tr>\n",
       "  </tbody>\n",
       "</table>\n",
       "</div>"
      ],
      "text/plain": [
       "          upc  dollar_sales  units  time_of_transaction  geography  week  \\\n",
       "0  7680850106          0.80      1                 1100          2     1   \n",
       "1  3620000470          3.59      1                 1100          2     1   \n",
       "2  1800028064          2.25      1                 1137          2     1   \n",
       "3  9999985067          0.85      1                 1148          2     1   \n",
       "4  9999985131          2.19      1                 1323          2     1   \n",
       "\n",
       "   household  store  basket  day  coupon  \n",
       "0     125434    244       1    1       0  \n",
       "1     125434    244       1    1       0  \n",
       "2     108320    244       2    1       0  \n",
       "3     162016    244       3    1       0  \n",
       "4      89437    244       4    1       0  "
      ]
     },
     "execution_count": 227,
     "metadata": {},
     "output_type": "execute_result"
    }
   ],
   "source": [
    "transactions.head()"
   ]
  },
  {
   "cell_type": "code",
   "execution_count": 573,
   "metadata": {},
   "outputs": [
    {
     "data": {
      "text/html": [
       "<div>\n",
       "<style scoped>\n",
       "    .dataframe tbody tr th:only-of-type {\n",
       "        vertical-align: middle;\n",
       "    }\n",
       "\n",
       "    .dataframe tbody tr th {\n",
       "        vertical-align: top;\n",
       "    }\n",
       "\n",
       "    .dataframe thead th {\n",
       "        text-align: right;\n",
       "    }\n",
       "</style>\n",
       "<table border=\"1\" class=\"dataframe\">\n",
       "  <thead>\n",
       "    <tr style=\"text-align: right;\">\n",
       "      <th></th>\n",
       "      <th>upc</th>\n",
       "      <th>product_description</th>\n",
       "      <th>commodity</th>\n",
       "      <th>brand</th>\n",
       "      <th>product_size</th>\n",
       "    </tr>\n",
       "  </thead>\n",
       "  <tbody>\n",
       "    <tr>\n",
       "      <th>0</th>\n",
       "      <td>111112360</td>\n",
       "      <td>VINCENT S ORIG MARINARA S</td>\n",
       "      <td>pasta sauce</td>\n",
       "      <td>Vincent's</td>\n",
       "      <td>25 OZ</td>\n",
       "    </tr>\n",
       "    <tr>\n",
       "      <th>1</th>\n",
       "      <td>566300023</td>\n",
       "      <td>PINE MOUNTAIN SYRUP</td>\n",
       "      <td>syrups</td>\n",
       "      <td>Pine Mountain</td>\n",
       "      <td>40 OZ</td>\n",
       "    </tr>\n",
       "    <tr>\n",
       "      <th>2</th>\n",
       "      <td>566300028</td>\n",
       "      <td>MILLER CANE SYRUP</td>\n",
       "      <td>syrups</td>\n",
       "      <td>Miller</td>\n",
       "      <td>19 OZ</td>\n",
       "    </tr>\n",
       "    <tr>\n",
       "      <th>3</th>\n",
       "      <td>566300029</td>\n",
       "      <td>MILLER CANE SYRUP</td>\n",
       "      <td>syrups</td>\n",
       "      <td>Miller</td>\n",
       "      <td>12 OZ</td>\n",
       "    </tr>\n",
       "    <tr>\n",
       "      <th>4</th>\n",
       "      <td>566300035</td>\n",
       "      <td>PINE MOUNTAIN SYRUP</td>\n",
       "      <td>syrups</td>\n",
       "      <td>Pine Mountain</td>\n",
       "      <td>19 OZ</td>\n",
       "    </tr>\n",
       "  </tbody>\n",
       "</table>\n",
       "</div>"
      ],
      "text/plain": [
       "         upc        product_description    commodity          brand  \\\n",
       "0  111112360  VINCENT S ORIG MARINARA S  pasta sauce      Vincent's   \n",
       "1  566300023        PINE MOUNTAIN SYRUP       syrups  Pine Mountain   \n",
       "2  566300028          MILLER CANE SYRUP       syrups         Miller   \n",
       "3  566300029          MILLER CANE SYRUP       syrups         Miller   \n",
       "4  566300035        PINE MOUNTAIN SYRUP       syrups  Pine Mountain   \n",
       "\n",
       "  product_size  \n",
       "0        25 OZ  \n",
       "1        40 OZ  \n",
       "2        19 OZ  \n",
       "3        12 OZ  \n",
       "4        19 OZ  "
      ]
     },
     "execution_count": 573,
     "metadata": {},
     "output_type": "execute_result"
    }
   ],
   "source": [
    "product.head()"
   ]
  },
  {
   "cell_type": "code",
   "execution_count": 289,
   "metadata": {},
   "outputs": [
    {
     "data": {
      "text/plain": [
       "{'pancake mixes': product_description\n",
       " AJ BUTTERMILK PANCAKE MIX             93321.06\n",
       " PRIVATE LABEL COMPLETE PANCAKE MIX    73616.82\n",
       " AUNT JEM ORIGINAL PANCAKE MIX         55974.63\n",
       " A/JEM COMPLETE PANCAKE MI             50030.20\n",
       " H J PANCK BTRMLK COMP MIX             44004.65\n",
       " Name: dollar_sales, dtype: float64,\n",
       " 'pasta': product_description\n",
       " PRIVATE LABEL SPAGHETTI REGULAR    184111.72\n",
       " PRIVATE LABEL THIN SPAGHETTI       148208.36\n",
       " PRIVATE LABEL ELBOW MACARONI       123143.67\n",
       " PRIVATE LABEL ANGEL HAIR PASTA      66160.21\n",
       " PRIVATE LABEL SPAGHETTI THIN        61573.90\n",
       " Name: dollar_sales, dtype: float64,\n",
       " 'syrups': product_description\n",
       " AUNT JEMIMA ORIGINL SYRUP             98922.68\n",
       " PRIVATE LABEL SYRUP PLASTIC BOTTLE    96146.78\n",
       " MRS BUTTERWORTH SYRUP                 86863.46\n",
       " AUNT JEMIMA LITE SYRUP                67371.03\n",
       " PRIVATE LABEL MAPLE SYRUP             66622.01\n",
       " Name: dollar_sales, dtype: float64,\n",
       " 'pasta sauce': product_description\n",
       " RAGU TRADITIONAL PLAIN       146471.95\n",
       " PREGO REG SPAGHETTI SAUCE    125166.65\n",
       " RAGU OWS SPAG SAUCE MEAT      89174.23\n",
       " PREGO MUSHROOM SPAG SAUCE     84147.56\n",
       " RAGU SPAGH SAUCE PLAIN        80414.19\n",
       " Name: dollar_sales, dtype: float64}"
      ]
     },
     "execution_count": 289,
     "metadata": {},
     "output_type": "execute_result"
    }
   ],
   "source": [
    "# Section 2 Question 1\n",
    "\n",
    "def find_top_5_products():\n",
    "    trans_product = transactions.join(product.set_index('upc'), on='upc') # join the transaction and product tables on the 'upc' column\n",
    "    commodities = trans_product.groupby(['commodity','product_description'])['dollar_sales'].sum() # group the products by commodity type and product name and take the sum of the dollar sales for each product\n",
    "    indices = set([commodity[0] for commodity in commodities.index.tolist()]) # find commodity group names\n",
    "\n",
    "    top_5_products = dict()\n",
    "    for ind in indices: # for each commodity type find the 5 products with the highest dollar sales values\n",
    "        top_5_products[ind] = commodities[ind].nlargest(5) \n",
    "    return top_5_products\n",
    "\n",
    "find_top_5_products()"
   ]
  },
  {
   "cell_type": "code",
   "execution_count": 290,
   "metadata": {},
   "outputs": [
    {
     "data": {
      "text/plain": [
       "{'pancake mixes': brand\n",
       " Aunt Jemima      206698.12\n",
       " Hungry Jack      111435.32\n",
       " Private Label     73616.82\n",
       " Krusteaz          30528.77\n",
       " Bisquick          18437.72\n",
       " Name: dollar_sales, dtype: float64,\n",
       " 'pasta': brand\n",
       " Private Label    995201.260001\n",
       " Barilla          433764.779999\n",
       " Creamette        271543.310000\n",
       " Mueller          270701.240000\n",
       " Ronzoni          213566.480000\n",
       " Name: dollar_sales, dtype: float64,\n",
       " 'syrups': brand\n",
       " Aunt Jemima        359668.92\n",
       " Private Label      352930.86\n",
       " Mrs Butterworth    159165.47\n",
       " Log Cabin          130904.45\n",
       " Karo               120430.98\n",
       " Name: dollar_sales, dtype: float64,\n",
       " 'pasta sauce': brand\n",
       " Ragu             1.500755e+06\n",
       " Prego            7.999322e+05\n",
       " Classico         4.381785e+05\n",
       " Private Label    3.310624e+05\n",
       " Bertolli         2.580908e+05\n",
       " Name: dollar_sales, dtype: float64}"
      ]
     },
     "execution_count": 290,
     "metadata": {},
     "output_type": "execute_result"
    }
   ],
   "source": [
    "# Section 2 Question 2\n",
    "\n",
    "def find_top_5_brands():\n",
    "    trans_product = transactions.join(product.set_index('upc'), on='upc') # join the transaction and product tables on the 'upc' column\n",
    "    commodities = trans_product.groupby(['commodity','brand'])['dollar_sales'].sum() # group the transactions by commodity type and brand name and take the sum of the dollar sales for each brand\n",
    "    indices = set([commodity[0] for commodity in commodities.index.tolist()]) # find commodity group names\n",
    "\n",
    "    top_5_brands = dict()\n",
    "    for ind in indices: # for each commodity type find the 5 brands with the highest dollar sales values\n",
    "        top_5_brands[ind] = commodities[ind].nlargest(5) \n",
    "    return top_5_brands\n",
    "\n",
    "find_top_5_brands()"
   ]
  },
  {
   "cell_type": "code",
   "execution_count": 369,
   "metadata": {},
   "outputs": [
    {
     "name": "stdout",
     "output_type": "stream",
     "text": [
      "Commodity pancake mixes is purchased once every 209.05962494096048 seconds on average\n",
      "Commodity pasta is purchased once every 21.817596760941353 seconds on average\n",
      "Commodity pasta sauce is purchased once every 27.171800751177607 seconds on average\n",
      "Commodity syrups is purchased once every 86.69658030058926 seconds on average\n"
     ]
    },
    {
     "data": {
      "text/plain": [
       "{'pancake mixes': 209.05962494096048,\n",
       " 'pasta': 21.817596760941353,\n",
       " 'pasta sauce': 27.171800751177607,\n",
       " 'syrups': 86.69658030058926}"
      ]
     },
     "execution_count": 369,
     "metadata": {},
     "output_type": "execute_result"
    }
   ],
   "source": [
    "# Section 2 Question 3\n",
    "\n",
    "def purchased_per_customer():\n",
    "    trans_product = transactions.join(product.set_index('upc'), on='upc') # join the transaction and product tables on the 'upc' column\n",
    "    first_transaction = trans_product.iloc[0] # get the data for the first transaction\n",
    "    first_transaction_time_seconds = ((first_transaction['day']-1)*86400) + int(str(first_transaction['time_of_transaction'])[0:2])*3600 + int(str(first_transaction['time_of_transaction'])[2:4])*60 # calculate the time of the first transaction in seconds\n",
    "    last_transaction = trans_product.iloc[len(trans_product)-1] # get the data for the last transaction\n",
    "    last_transaction_time_seconds = ((last_transaction['day']-1)*86400) + int(str(last_transaction['time_of_transaction'])[0:2])*3600 + int(str(last_transaction['time_of_transaction'])[2:4])*60 # calculate the time of the last transaction in seconds\n",
    "    time_difference = last_transaction_time_seconds - first_transaction_time_seconds\n",
    "    \n",
    "    commodities = trans_product.groupby('commodity')['units'].sum() # get the number of each commodity bought over the timespan of the dataframe\n",
    "    \n",
    "    how_often_bought = dict()\n",
    "    for ind in commodities.index.to_list():\n",
    "        how_often_bought[ind] = time_difference / commodities[ind] # for each commodity, divide the amount of time encompassed by the dataframe by the number of each commodity bought to find how often each commodity is purchased\n",
    "        print(f'Commodity {ind} is purchased once every {how_often_bought[ind]} seconds on average') # print how often each commodity is bought on average in seconds\n",
    "    \n",
    "purchased_per_customer()\n"
   ]
  },
  {
   "cell_type": "code",
   "execution_count": 417,
   "metadata": {},
   "outputs": [
    {
     "data": {
      "image/png": "[encoded data removed]",
      "text/plain": [
       "<Figure size 1008x864 with 1 Axes>"
      ]
     },
     "metadata": {},
     "output_type": "display_data"
    }
   ],
   "source": [
    "# Section 2 Question 4\n",
    "\n",
    "def weekly_trends():\n",
    "    trans_product = transactions.join(product.set_index('upc'), on='upc') # join the transaction and product tables on the 'upc' column\n",
    "    weekly = trans_product.groupby(['commodity','week'])['dollar_sales'].sum() # find the sum of the weekly dollar sales for each commodity\n",
    "    indices = list(set([commodity[0] for commodity in weekly.index.tolist()])) # find the indices\n",
    "\n",
    "    weekly_sales = dict() # initialize a dictionary to store dollar sales per week per commodity in\n",
    "    for ind in indices:\n",
    "        weekly_sales[ind] = weekly[ind] # assign the sum of dollar sales per week to each commodity in a dictionary format\n",
    "\n",
    "    # plot dollar sales per category over time\n",
    "    plt.style.use('ggplot')\n",
    "    fig, ax = plt.subplots(figsize=(14,12)) # initialize figure\n",
    "    for i in range(0,len(indices)):\n",
    "        ax.plot(x,weekly_sales[indices[i]],label=indices[i]) # plot sales vs week\n",
    "    ax.set_xlabel('Week #',fontsize=16) # set x label\n",
    "    ax.set_ylabel('Dollar Sales',fontsize=16) # set x label\n",
    "    ax.legend(loc='upper left',fontsize=14) # create legend\n",
    "    ax.set_xlim([min(x),max(x)]) # set x axis boundaries\n",
    "    ax.set_title('Dollar Sales per Category vs. Time',fontsize=18) # create title\n",
    "    plt.tick_params(labelsize=14) # set tick label sizes\n",
    "\n",
    "weekly_trends()\n",
    "\n",
    "# From the graph below we can see that pasta sauce has the highest dollar sales of the product categories,\n",
    "# followed by pasta, syrups, and then pancake mixes. Some seasonal yearly fluctuation is observed, where\n",
    "# product sales for all products show some increase around weeks 20-30 and weeks 70-80"
   ]
  },
  {
   "cell_type": "code",
   "execution_count": 572,
   "metadata": {},
   "outputs": [
    {
     "data": {
      "text/plain": [
       "[(('PRIVATE LABEL THIN SPAGHETTI', 'RAGU TRADITIONAL PLAIN'), 5886),\n",
       " (('PRIVATE LABEL SPAGHETTI REGULAR', 'RAGU TRADITIONAL PLAIN'), 5847),\n",
       " (('PRIVATE LABEL FETTUCCINI', 'RAGU\\\\CHZ CREATION ALFRDO'), 5603),\n",
       " (('PRIVATE LABEL ELBOW MACARONI', 'PRIVATE LABEL SPAGHETTI REGULAR'), 5049),\n",
       " (('HUNT TRADITIONAL SAUCE', 'PRIVATE LABEL SPAGHETTI REGULAR'), 4268),\n",
       " (('PRIVATE LABEL SPAGHETTI REGULAR', 'RAGU OWS SPAG SAUCE MEAT'), 4182),\n",
       " (('HUNT TRADITIONAL SAUCE', 'PRIVATE LABEL THIN SPAGHETTI'), 4082),\n",
       " (('PRIVATE LABEL THIN SPAGHETTI', 'RAGU OWS SPAG SAUCE MEAT'), 4057),\n",
       " (('PRIVATE LABEL ELBOW MACARONI', 'PRIVATE LABEL THIN SPAGHETTI'), 3942),\n",
       " (('PREGO REG SPAGHETTI SAUCE', 'PRIVATE LABEL THIN SPAGHETTI'), 3854)]"
      ]
     },
     "execution_count": 572,
     "metadata": {},
     "output_type": "execute_result"
    }
   ],
   "source": [
    "# Section 2 Question 5\n",
    "\n",
    "'''\n",
    "To answer this question, a pre-built algorithm such as the mlxtend apriori algorithm could be used, \n",
    "but I have provided a method from scratch below to demonstrate how I would solve this manually. \n",
    "\n",
    "inputs:\n",
    "num_items = number of items commonly purchased together (i.e. a '2' here would calculate groups of 2 items are most often purchased together)\n",
    "top_n = number of top purchased item groups to display (i.e. a '10' here would show the top 10 groups most commonly purchased together)\n",
    "\n",
    "outputs:\n",
    "top_items_purchased_together = each group of commonly purchased items and the number of times it was purchased in the same basket\n",
    "\n",
    "'''\n",
    "\n",
    "def commonly_purchased_together(num_items, top_n):\n",
    "    trans_product = transactions.join(product.set_index('upc'), on='upc') # join the transaction and product tables on the 'upc' column\n",
    "    commodities = ['pasta', 'pasta sauce'] # we are only interested in pasta and pasta sauce\n",
    "    pasta_category = trans_product[trans_product['commodity'].isin(commodities)] # filter dataframe to only products in the pasta category\n",
    "\n",
    "    # find top 25% of products sold, to reduce compute time when calculating products commonly sold together\n",
    "    product_counts = (pasta_category.groupby('product_description')['basket'].count().reset_index(name='count').sort_values(['count'], ascending=False)) # find how many of each product was sold and sort by count descending\n",
    "    product_counts_top25 = product_counts[0:int(len(product_counts)*0.25)] # get only top 25% of products\n",
    "    pasta_top25 = pasta_category[pasta_category['product_description'].isin(list(product_counts_top25['product_description']))] # filter dataframe to only products in the top 25% of products sold\n",
    "    \n",
    "    baskets = pasta_top25.groupby('basket')['product_description'].apply(list).to_dict() # create dictionary of baskets with the names of the product in each basket\n",
    "    \n",
    "    purchased_together = dict() # initialize dictionary of items purchased together\n",
    "\n",
    "    for key, val in baskets.items():\n",
    "        basket = baskets[key]\n",
    "        if len(basket) > 1:\n",
    "            combinations = list(itertools.combinations(baskets[key],num_items)) # find all possible unique combinations of num_items number of items\n",
    "            for item in combinations:  \n",
    "                item = tuple(sorted(item)) # sort each item combination alphabetically so items in combinations will always be ordered the same\n",
    "                if item in purchased_together.keys():\n",
    "                    purchased_together[item] += 1 # if the item is already in the dictionary, add 1 to its value\n",
    "                else:\n",
    "                    purchased_together[item] = 1 # if the item is not already in the dictionary, create a new key and set the value equal to 1\n",
    "    \n",
    "    top_items_purchased_together = sorted(purchased_together.items(), key=lambda x: x[1], reverse=True)[0:10]\n",
    "\n",
    "    return top_items_purchased_together\n",
    "\n",
    "commonly_purchased_together(2,10) # if num_items = 2 this function will show you the two items most often purchased together, if num_items = 3 it will show the 3 items most often purchased together, etc. top_n is the number of top items to display"
   ]
  },
  {
   "cell_type": "code",
   "execution_count": null,
   "metadata": {},
   "outputs": [],
   "source": []
  },
  {
   "cell_type": "code",
   "execution_count": null,
   "metadata": {},
   "outputs": [],
   "source": []
  },
  {
   "cell_type": "code",
   "execution_count": null,
   "metadata": {},
   "outputs": [],
   "source": []
  },
  {
   "cell_type": "code",
   "execution_count": null,
   "metadata": {},
   "outputs": [],
   "source": []
  },
  {
   "cell_type": "code",
   "execution_count": null,
   "metadata": {},
   "outputs": [],
   "source": []
  },
  {
   "cell_type": "code",
   "execution_count": null,
   "metadata": {},
   "outputs": [],
   "source": []
  }
 ],
 "metadata": {
  "kernelspec": {
   "display_name": "Python 3",
   "language": "python",
   "name": "python3"
  },
  "language_info": {
   "codemirror_mode": {
    "name": "ipython",
    "version": 3
   },
   "file_extension": ".py",
   "mimetype": "text/x-python",
   "name": "python",
   "nbconvert_exporter": "python",
   "pygments_lexer": "ipython3",
   "version": "3.7.9"
  }
 },
 "nbformat": 4,
 "nbformat_minor": 4
}
